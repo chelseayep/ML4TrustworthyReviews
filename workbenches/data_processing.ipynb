{
 "cells": [
  {
   "cell_type": "markdown",
   "id": "d13b8dc9",
   "metadata": {},
   "source": [
    "# Dataset Preparation\n",
    "\n",
    "This notebook demonstrates the workflow for processing and evaluating user-submitted reviews against a set of trustworthiness policies, including spam detection, relevance, and credibility.\n",
    "\n",
    "The dataset used in this project is sourced from the Google Local Reviews dataset provided by the [McAuley Lab at UCSD](https://mcauleylab.ucsd.edu/public_datasets/gdrive/googlelocal/?utm_source=chatgpt.com). Since the dataset contains millions of reviews, we randomly sample a manageable subset for processing.\n"
   ]
  },
  {
   "cell_type": "code",
   "execution_count": 1,
   "id": "2539e289",
   "metadata": {},
   "outputs": [],
   "source": [
    "import sys\n",
    "sys.path.append('../src')\n",
    "import json\n",
    "import csv\n",
    "\n",
    "from objects import InputData\n",
    "from data_processing.input_parser import parse_csv, parse_json_into_reviews, save_to_json\n",
    "\n",
    "DATA_DIR= \"../data\"\n",
    "PROCESSED_DIR = f\"{DATA_DIR}/processed\"\n",
    "RAW_DIR = f\"{DATA_DIR}/raw\"\n"
   ]
  },
  {
   "cell_type": "markdown",
   "id": "d1916e25",
   "metadata": {},
   "source": [
    "### Parsing and Standardizing Review Data\n",
    "\n",
    "We begin by loading a publicly available dataset of Vermont reviews and business metadata. Since the dataset contains millions of reviews, we randomly select a subset of 200 reviews for processing. Using a custom   `parse_json_into_reviews `function, each selected review is transformed into a standardized format suitable for our policy evaluation pipeline. This ensures consistency in how review text, ratings, and business information are represented.\n",
    "\n",
    "The processed reviews are then saved to a JSON file for downstream use, and a sample review is printed to verify the transformation."
   ]
  },
  {
   "cell_type": "code",
   "execution_count": null,
   "id": "dac9d6bd",
   "metadata": {},
   "outputs": [],
   "source": [
    "review_json_path=f\"{RAW_DIR}/vermont/reviews-Vermont.json\"\n",
    "business_info_path=f\"{RAW_DIR}/vermont/meta-Vermont.json\"\n",
    "\n",
    "output_path = f\"{PROCESSED_DIR}/vermont_test_set.json\"\n",
    "\n",
    "selected_data = parse_json_into_reviews(path=review_json_path,\n",
    "                                        rows= 200, # test set size\n",
    "                                        business_info_path=business_info_path)\n",
    "save_to_json(selected_data, output_path)\n",
    "\n",
    "print(selected_data[0])"
   ]
  },
  {
   "cell_type": "markdown",
   "id": "20444dab",
   "metadata": {},
   "source": [
    "### Converting JSON to CSV for Annotation\n",
    "\n",
    "After parsing and standardizing the review data, we convert the JSON output into a CSV file to facilitate manual annotation. Additional columns are created for policy labels (spam, relevance, credible) and review attributes (_sentiment, _informative) if they do not already exist.\n",
    "\n",
    "This CSV format allows annotators to easily inspect, edit, and label the reviews, ensuring the dataset is ready for model evaluation and training."
   ]
  },
  {
   "cell_type": "code",
   "execution_count": null,
   "id": "619d0e4c",
   "metadata": {},
   "outputs": [],
   "source": [
    "csv_name = output_path.replace('.json', '_annotated.csv')\n",
    "\n",
    "with open(output_path, 'r') as f:\n",
    "    data = json.load(f)\n",
    "\n",
    "annotation_fields = ['spam', 'relevance', 'credible', '_sentiment', '_informative']\n",
    "with open(csv_name, 'w', newline='', encoding='utf-8') as f:\n",
    "    writer = csv.DictWriter(f, fieldnames=list(data[0].keys())+ annotation_fields)\n",
    "   \n",
    "    for item in data:\n",
    "        for field in annotation_fields:\n",
    "            if field not in item:\n",
    "                item[field] = ''\n",
    "        writer.writerow(item)\n"
   ]
  }
 ],
 "metadata": {
  "kernelspec": {
   "display_name": ".venv (3.13.6)",
   "language": "python",
   "name": "python3"
  },
  "language_info": {
   "codemirror_mode": {
    "name": "ipython",
    "version": 3
   },
   "file_extension": ".py",
   "mimetype": "text/x-python",
   "name": "python",
   "nbconvert_exporter": "python",
   "pygments_lexer": "ipython3",
   "version": "3.13.6"
  }
 },
 "nbformat": 4,
 "nbformat_minor": 5
}
