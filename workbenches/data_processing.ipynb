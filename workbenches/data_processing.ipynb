{
 "cells": [
  {
   "cell_type": "markdown",
   "id": "d13b8dc9",
   "metadata": {},
   "source": [
    "# Data Preparation"
   ]
  },
  {
   "cell_type": "markdown",
   "id": "255e5359",
   "metadata": {},
   "source": [
    "database used: https://mcauleylab.ucsd.edu/public_datasets/gdrive/googlelocal/"
   ]
  },
  {
   "cell_type": "code",
   "execution_count": null,
   "id": "2539e289",
   "metadata": {},
   "outputs": [],
   "source": [
    "import os, json, csv\n",
    "os.sys.path.append(\"../src\")\n",
    "\n",
    "from objects import InputData\n",
    "from data_processsing.data_loader import parse_csv, parse_json, save_to_json\n",
    "\n",
    "DATA_DIR= \"../data\"\n",
    "PROCESSED_DIR = f\"{DATA_DIR}/processed\"\n",
    "RAW_DIR = f\"{DATA_DIR}/raw\"\n"
   ]
  },
  {
   "cell_type": "code",
   "execution_count": null,
   "id": "dac9d6bd",
   "metadata": {},
   "outputs": [],
   "source": [
    "review_json_path=f\"{RAW_DIR}/reviews-vermont.json\"\n",
    "business_info_path=f\"{RAW_DIR}/meta-vermont.json\"\n",
    "\n",
    "output_path = f\"{PROCESSED_DIR}/vermont_test_set.json\"\n",
    "\n",
    "selected_data = parse_json(review_json_path, 200, business_info_path)\n",
    "save_to_json(selected_data, output_path)\n",
    "\n",
    "\n",
    "print(selected_data[0])"
   ]
  },
  {
   "cell_type": "markdown",
   "id": "20444dab",
   "metadata": {},
   "source": [
    "## Data Labelling \n",
    "- manaul annotation:\n",
    "- AI annotation"
   ]
  },
  {
   "cell_type": "code",
   "execution_count": null,
   "id": "619d0e4c",
   "metadata": {},
   "outputs": [],
   "source": [
    "csv_name = output_path.replace('.json', '_annotated.csv')\n",
    "\n",
    "with open(output_path, 'r') as f:\n",
    "    data = json.load(f)\n",
    "\n",
    "annotation_fields = ['spam', 'relevance', 'credible', '_sentiment', '_informative']\n",
    "with open(csv_name, 'w', newline='', encoding='utf-8') as f:\n",
    "    writer = csv.DictWriter(f, fieldnames=list(data[0].keys())+ annotation_fields)\n",
    "   \n",
    "    for item in data:\n",
    "        for field in annotation_fields:\n",
    "            if field not in item:\n",
    "                item[field] = ''\n",
    "        writer.writerow(item)\n"
   ]
  }
 ],
 "metadata": {
  "kernelspec": {
   "display_name": ".venv (3.13.6)",
   "language": "python",
   "name": "python3"
  },
  "language_info": {
   "codemirror_mode": {
    "name": "ipython",
    "version": 3
   },
   "file_extension": ".py",
   "mimetype": "text/x-python",
   "name": "python",
   "nbconvert_exporter": "python",
   "pygments_lexer": "ipython3",
   "version": "3.13.6"
  }
 },
 "nbformat": 4,
 "nbformat_minor": 5
}
